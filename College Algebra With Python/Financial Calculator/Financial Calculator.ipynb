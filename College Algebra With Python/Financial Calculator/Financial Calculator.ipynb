{
 "cells": [
  {
   "cell_type": "markdown",
   "metadata": {},
   "source": [
    "# Calculate annuity with monthly or continuous growth"
   ]
  },
  {
   "cell_type": "code",
   "execution_count": 1,
   "metadata": {},
   "outputs": [],
   "source": [
    "import math\n",
    "\n",
    "def calculate_annuity(value, rate):\n",
    "    monthly = value * (1 + rate / 12) ** 12\n",
    "    continuous = value * math.e ** (rate)\n",
    "\n",
    "    print(\"New value with monthly growth:\", monthly)\n",
    "    print(\"New value with continuous growth:\", continuous)"
   ]
  },
  {
   "cell_type": "code",
   "execution_count": 2,
   "metadata": {},
   "outputs": [
    {
     "name": "stdout",
     "output_type": "stream",
     "text": [
      "New value with monthly growth: 1051.161897881733\n",
      "New value with continuous growth: 1051.2710963760242\n"
     ]
    }
   ],
   "source": [
    "calculate_annuity(1000, 0.05)"
   ]
  },
  {
   "cell_type": "markdown",
   "metadata": {},
   "source": [
    "# Calculate monthly mortgage payment"
   ]
  },
  {
   "cell_type": "code",
   "execution_count": 9,
   "metadata": {},
   "outputs": [],
   "source": [
    "def calculate_mortgage(value, rate, years):\n",
    "    numerator = (rate / 12) * (1 + rate / 12) ** (12 * years)\n",
    "    denominator = (1 + rate / 12) ** (12 * years) - 1\n",
    "    mortgage = round(value * numerator / denominator, 2)\n",
    "\n",
    "    print(\"Monthly mortgage payment:\", mortgage)\n",
    "    print(\"Total payment:\", round(mortgage * 12 * years, 2))"
   ]
  },
  {
   "cell_type": "code",
   "execution_count": 10,
   "metadata": {},
   "outputs": [
    {
     "name": "stdout",
     "output_type": "stream",
     "text": [
      "Monthly mortgage payment: 10.61\n",
      "Total payment: 1273.2\n"
     ]
    }
   ],
   "source": [
    "calculate_mortgage(1000, 0.05, 10)"
   ]
  },
  {
   "cell_type": "markdown",
   "metadata": {},
   "source": [
    "# Estimate retirement investment balance"
   ]
  },
  {
   "cell_type": "code",
   "execution_count": 11,
   "metadata": {},
   "outputs": [],
   "source": [
    "def calculate_investment(initial_value, monthly_investment, rate, years):\n",
    "    final_value = initial_value\n",
    "\n",
    "    for _ in range(12 * years):\n",
    "        final_value = (final_value + monthly_investment) * (1 + (rate / 12))\n",
    "\n",
    "    print(\"After\", years, \"years\")\n",
    "    print(\"Your balance will be\", round(final_value, 2))\n",
    "    print(\"Your annual income from interest will be\", round(final_value * rate, 2))\n",
    "    print(\"Your monthly income from interest will be\", round(final_value * rate / 12, 2))"
   ]
  },
  {
   "cell_type": "code",
   "execution_count": 12,
   "metadata": {},
   "outputs": [
    {
     "name": "stdout",
     "output_type": "stream",
     "text": [
      "After 15 years\n",
      "Your balance will be 312246.02\n",
      "Your annual income from interest will be 37469.52\n",
      "Your monthly income from interest will be 3122.46\n"
     ]
    }
   ],
   "source": [
    "calculate_investment(10000, 500, 0.12, 15)"
   ]
  },
  {
   "cell_type": "markdown",
   "metadata": {},
   "source": [
    "# Determine how long until an amount doubles, given the rate"
   ]
  },
  {
   "cell_type": "code",
   "execution_count": 13,
   "metadata": {},
   "outputs": [],
   "source": [
    "import math\n",
    "\n",
    "def when_doubles(rate):\n",
    "    time_to_double = math.log(2, 1 + rate)\n",
    "    print(\"Time to double:\", round(time_to_double, 2), \"years.\")"
   ]
  },
  {
   "cell_type": "code",
   "execution_count": 15,
   "metadata": {},
   "outputs": [
    {
     "name": "stdout",
     "output_type": "stream",
     "text": [
      "Time to double: 14.21 years.\n"
     ]
    }
   ],
   "source": [
    "when_doubles(0.05)"
   ]
  },
  {
   "cell_type": "markdown",
   "metadata": {},
   "source": [
    "# Solve logarithmic equations"
   ]
  },
  {
   "cell_type": "code",
   "execution_count": 35,
   "metadata": {},
   "outputs": [],
   "source": [
    "from sympy import Symbol, Eq, log, solve\n",
    "\n",
    "def solve_logarithmic(base, result):\n",
    "    x = Symbol(\"x\")\n",
    "    eq = Eq(log(result, base), x)\n",
    "    print(\"Solution:\", solve(eq))"
   ]
  },
  {
   "cell_type": "code",
   "execution_count": 36,
   "metadata": {},
   "outputs": [
    {
     "name": "stdout",
     "output_type": "stream",
     "text": [
      "Solution: [4]\n"
     ]
    }
   ],
   "source": [
    "solve_logarithmic(2, 16)"
   ]
  },
  {
   "cell_type": "markdown",
   "metadata": {},
   "source": [
    "# Convert to (and from) scientific notation"
   ]
  },
  {
   "cell_type": "code",
   "execution_count": 28,
   "metadata": {},
   "outputs": [],
   "source": [
    "import math\n",
    "\n",
    "def to_scientific(num: float):\n",
    "    exponent = math.floor(math.log10(num))\n",
    "    new_num = round(num * 10 ** (-1 * exponent), 10)\n",
    "    sci = str(new_num) + \" * 10^\" + str(exponent)\n",
    "\n",
    "    return sci\n",
    "\n",
    "def from_scientific(num_str: float):\n",
    "    num_arr = num_str.split(\"*\")\n",
    "    num = float(num_arr[0])\n",
    "    exponent = int(num_arr[1].split(\"^\")[1])\n",
    "\n",
    "    return round(num * 10 ** exponent, 10)"
   ]
  },
  {
   "cell_type": "code",
   "execution_count": 31,
   "metadata": {},
   "outputs": [
    {
     "data": {
      "text/plain": [
       "'1.4 * 10^-2'"
      ]
     },
     "execution_count": 31,
     "metadata": {},
     "output_type": "execute_result"
    }
   ],
   "source": [
    "to_scientific(0.014)"
   ]
  },
  {
   "cell_type": "code",
   "execution_count": 30,
   "metadata": {},
   "outputs": [
    {
     "data": {
      "text/plain": [
       "1800.0"
      ]
     },
     "execution_count": 30,
     "metadata": {},
     "output_type": "execute_result"
    }
   ],
   "source": [
    "from_scientific(to_scientific(1800))"
   ]
  }
 ],
 "metadata": {
  "kernelspec": {
   "display_name": "Python 3",
   "language": "python",
   "name": "python3"
  },
  "language_info": {
   "codemirror_mode": {
    "name": "ipython",
    "version": 3
   },
   "file_extension": ".py",
   "mimetype": "text/x-python",
   "name": "python",
   "nbconvert_exporter": "python",
   "pygments_lexer": "ipython3",
   "version": "3.9.5"
  },
  "orig_nbformat": 4
 },
 "nbformat": 4,
 "nbformat_minor": 2
}
